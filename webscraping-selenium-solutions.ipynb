{
 "cells": [
  {
   "cell_type": "markdown",
   "metadata": {
    "collapsed": true
   },
   "source": [
    "<img src=\"http://imgur.com/1ZcRyrc.png\" style=\"float: left; margin: 20px; height: 55px\">\n",
    "\n",
    "# Web Scraping OpenTable With Selenium: Guided Lab\n",
    "\n",
    "_Authors: Joseph Nelson (DC)_\n",
    "\n",
    "---\n",
    "\n",
    "> *Note: This is intended to be an instructor-guided lab.*\n",
    "\n",
    "\n",
    "In today's code-along lab, we'll build a scraper using urllib and Beautiful Soup. We'll also remedy some of the pitfalls of automated scraping by using a \"headless\" browser called Selenium.\n",
    "\n",
    "You'll be scraping OpenTable's Washington, D.C. listings. We're interested in knowing the restaurants' **name, location, price, and how many people booked it that day.**\n",
    "\n",
    "OpenTable provides all of this information on this page: http://www.opentable.com/washington-dc-restaurant-listings."
   ]
  },
  {
   "cell_type": "markdown",
   "metadata": {},
   "source": [
    "### 1) Inspect the elements of this page to confirm we can find all of the information we're interested in."
   ]
  },
  {
   "cell_type": "markdown",
   "metadata": {},
   "source": [
    "### 2) Use `urllib` and `BeautifulSoup` to read the contents of the HTML."
   ]
  },
  {
   "cell_type": "code",
   "execution_count": 1,
   "metadata": {
    "scrolled": true
   },
   "outputs": [],
   "source": [
    "from bs4 import BeautifulSoup\n",
    "import urllib"
   ]
  },
  {
   "cell_type": "code",
   "execution_count": 2,
   "metadata": {},
   "outputs": [],
   "source": [
    "# Set the URL we want to visit.\n",
    "url = \"http://www.opentable.com/washington-dc-restaurant-listings\"\n",
    "\n",
    "# Visit the URL and grab the HTML of the page.\n",
    "html = urllib.urlopen(url).read()"
   ]
  },
  {
   "cell_type": "markdown",
   "metadata": {},
   "source": [
    "### 3) Print out a fraction of the HTML. What's in it?"
   ]
  },
  {
   "cell_type": "code",
   "execution_count": 3,
   "metadata": {},
   "outputs": [
    {
     "data": {
      "text/plain": [
       "675305"
      ]
     },
     "execution_count": 3,
     "metadata": {},
     "output_type": "execute_result"
    }
   ],
   "source": [
    "len(html)"
   ]
  },
  {
   "cell_type": "code",
   "execution_count": 4,
   "metadata": {},
   "outputs": [
    {
     "data": {
      "text/plain": [
       "'           <!DOCTYPE html><html lang=\"en\"><head><meta charset=\"utf-8\"/><meta http-equiv=\"X-UA-Compatible\" content=\"IE=9; IE=8; IE=7; IE=EDGE\"/> <title>Washington, D.C. Area Restaurants List | OpenTable</title>  <meta  name=\"description\" content=\"Find Washington, D.C. Area restaurants. Search by location, cuisine, or price to refine restaurant results in the Washington, D.C. Area area.\" > </meta>  <meta  name=\"robots\" content=\"noindex\" > </meta><link  rel=\"canonical\" href=\"https://www.opentable.com/washington-dc-restaurant-listings\" > </link>      <link rel=\"shortcut icon\" href=\"//components.otstatic.com/components/favicon/1.0.5/favicon/favicon.ico\" type=\"image/x-icon\"/><link rel=\"icon\" href=\"//components.otstatic.com/components/favicon/1.0.5/favicon/favicon-16.png\" sizes=\"16x16\"/><link rel=\"icon\" href=\"//components.otstatic.com/components/favicon/1.0.5/favicon/favicon-32.png\" sizes=\"32x32\"/><link rel=\"icon\" href=\"//components.otstatic.com/components/favicon/1.0.5/favicon/favicon-48.png'"
      ]
     },
     "execution_count": 4,
     "metadata": {},
     "output_type": "execute_result"
    }
   ],
   "source": [
    "html[0:1000]"
   ]
  },
  {
   "cell_type": "code",
   "execution_count": 5,
   "metadata": {},
   "outputs": [],
   "source": [
    "# This is the raw HTML from the page."
   ]
  },
  {
   "cell_type": "markdown",
   "metadata": {},
   "source": [
    "### 4) Use Beautiful Soup to convert the raw HTML into a soup object."
   ]
  },
  {
   "cell_type": "code",
   "execution_count": 6,
   "metadata": {},
   "outputs": [],
   "source": [
    "# We need to convert this into a soup object.\n",
    "soup = BeautifulSoup(html, 'html.parser', from_encoding=\"utf-8\")"
   ]
  },
  {
   "cell_type": "markdown",
   "metadata": {},
   "source": [
    "### 5) Extract the name of each restaurant.\n",
    "\n",
    "First, let's find each restaurant name listed on the page we've loaded. How do we find each restaurant's location on the page? \n",
    "\n",
    "> *Hint: We need to know where the restaurant element is housed in the **HTML**.*\n",
    "\n",
    "**5.A) See if you can find the restaurant name. Keep in mind that there are many restaurants loaded on the page.**"
   ]
  },
  {
   "cell_type": "code",
   "execution_count": 7,
   "metadata": {},
   "outputs": [
    {
     "name": "stdout",
     "output_type": "stream",
     "text": [
      "<span class=\"rest-row-name-text\">Ruffino's - Arlington</span>\n",
      "<span class=\"rest-row-name-text\">Joe's Place Pizza and Pasta</span>\n",
      "<span class=\"rest-row-name-text\">Farmers Fishers Bakers</span>\n",
      "<span class=\"rest-row-name-text\">Filomena Ristorante</span>\n",
      "<span class=\"rest-row-name-text\">Ambar - Arlington</span>\n",
      "<span class=\"rest-row-name-text\">Rasika West End</span>\n",
      "<span class=\"rest-row-name-text\">Blue Duck Tavern</span>\n",
      "<span class=\"rest-row-name-text\">Tupelo Honey - Arlington</span>\n",
      "<span class=\"rest-row-name-text\">BlackSalt</span>\n",
      "<span class=\"rest-row-name-text\">Il Canale</span>\n",
      "<span class=\"rest-row-name-text\">Kapnos Taverna Arlington</span>\n",
      "<span class=\"rest-row-name-text\">Sequoia</span>\n",
      "<span class=\"rest-row-name-text\">Green Pig Bistro</span>\n",
      "<span class=\"rest-row-name-text\">Bistro Aracosia</span>\n",
      "<span class=\"rest-row-name-text\">Et Voila</span>\n",
      "<span class=\"rest-row-name-text\">Lyon Hall</span>\n",
      "<span class=\"rest-row-name-text\">The Liberty Tavern</span>\n",
      "<span class=\"rest-row-name-text\">Chez Billy Sud</span>\n",
      "<span class=\"rest-row-name-text\">Nobu DC</span>\n",
      "<span class=\"rest-row-name-text\">Café Milano</span>\n"
     ]
    }
   ],
   "source": [
    "# Print the restaurant names.\n",
    "for n in soup.find_all('span', {'class': 'rest-row-name-text'})[0:20]:\n",
    "    print(n)"
   ]
  },
  {
   "cell_type": "markdown",
   "metadata": {},
   "source": [
    "**5.B) Create a list of _only_ the restaurant names (no tags).**\n"
   ]
  },
  {
   "cell_type": "code",
   "execution_count": 8,
   "metadata": {},
   "outputs": [],
   "source": [
    "r_names = []\n",
    "# For each element you find, print out the restaurant name.\n",
    "for entry in soup.find_all('span', {'class': 'rest-row-name-text'}):\n",
    "    r_names.append(entry.renderContents())"
   ]
  },
  {
   "cell_type": "code",
   "execution_count": 9,
   "metadata": {},
   "outputs": [
    {
     "data": {
      "text/plain": [
       "[\"Ruffino's - Arlington\",\n",
       " \"Joe's Place Pizza and Pasta\",\n",
       " 'Farmers Fishers Bakers',\n",
       " 'Filomena Ristorante',\n",
       " 'Ambar - Arlington',\n",
       " 'Rasika West End',\n",
       " 'Blue Duck Tavern',\n",
       " 'Tupelo Honey - Arlington',\n",
       " 'BlackSalt',\n",
       " 'Il Canale',\n",
       " 'Kapnos Taverna Arlington',\n",
       " 'Sequoia',\n",
       " 'Green Pig Bistro',\n",
       " 'Bistro Aracosia',\n",
       " 'Et Voila',\n",
       " 'Lyon Hall',\n",
       " 'The Liberty Tavern',\n",
       " 'Chez Billy Sud',\n",
       " 'Nobu DC',\n",
       " 'Caf\\xc3\\xa9 Milano']"
      ]
     },
     "execution_count": 9,
     "metadata": {},
     "output_type": "execute_result"
    }
   ],
   "source": [
    "r_names[0:20]"
   ]
  },
  {
   "cell_type": "markdown",
   "metadata": {},
   "source": [
    "### 6) Repeat this process for location.\n",
    "\n",
    "For example, barmini by Jose Andres is located in \"Penn Quarter,\" as listed in our search results."
   ]
  },
  {
   "cell_type": "code",
   "execution_count": 10,
   "metadata": {},
   "outputs": [
    {
     "name": "stdout",
     "output_type": "stream",
     "text": [
      "[<span class=\"rest-row-meta--location rest-row-meta-text\">Arlington</span>, <span class=\"rest-row-meta--location rest-row-meta-text\">Arlington</span>, <span class=\"rest-row-meta--location rest-row-meta-text\">Georgetown</span>, <span class=\"rest-row-meta--location rest-row-meta-text\">Georgetown</span>, <span class=\"rest-row-meta--location rest-row-meta-text\">Arlington</span>]\n"
     ]
    }
   ],
   "source": [
    "# First, see if you can identify the location for all elements — print it out.\n",
    "print soup.find_all('span', {'class': 'rest-row-meta--location rest-row-meta-text'})[0:5]"
   ]
  },
  {
   "cell_type": "code",
   "execution_count": 11,
   "metadata": {},
   "outputs": [
    {
     "data": {
      "text/plain": [
       "['Arlington',\n",
       " 'Arlington',\n",
       " 'Georgetown',\n",
       " 'Georgetown',\n",
       " 'Arlington',\n",
       " 'West End',\n",
       " 'West End',\n",
       " 'Arlington',\n",
       " 'Palisades Northwest',\n",
       " 'Georgetown']"
      ]
     },
     "execution_count": 11,
     "metadata": {},
     "output_type": "execute_result"
    }
   ],
   "source": [
    "r_loc = []\n",
    "for entry in soup.find_all('span', {'class': 'rest-row-meta--location rest-row-meta-text'}):\n",
    "    r_loc.append(entry.renderContents())\n",
    "    \n",
    "r_loc[0:10]"
   ]
  },
  {
   "cell_type": "markdown",
   "metadata": {},
   "source": [
    "### 7) Get the price for each restaurant.\n",
    "\n",
    "The price is the number of dollar signs on a scale of one to four for each restaurant. We'll follow the same process we used for restaurant name and location."
   ]
  },
  {
   "cell_type": "code",
   "execution_count": 12,
   "metadata": {},
   "outputs": [
    {
     "name": "stdout",
     "output_type": "stream",
     "text": [
      "[<div class=\"rest-row-pricing\"> <i>  $    $      </i>   $    $      </div>, <div class=\"rest-row-pricing\"> <i>  $    $      </i>   $    $      </div>, <div class=\"rest-row-pricing\"> <i>  $    $      </i>   $    $      </div>, <div class=\"rest-row-pricing\"> <i>  $    $    $    </i>   $        </div>, <div class=\"rest-row-pricing\"> <i>  $    $      </i>   $    $      </div>]\n"
     ]
    }
   ],
   "source": [
    "# Print out all of the prices.\n",
    "print soup.find_all('div', {'class': 'rest-row-pricing'})[0:5]"
   ]
  },
  {
   "cell_type": "code",
   "execution_count": 13,
   "metadata": {},
   "outputs": [
    {
     "data": {
      "text/plain": [
       "['  $    $      ',\n",
       " '  $    $      ',\n",
       " '  $    $      ',\n",
       " '  $    $    $    ',\n",
       " '  $    $      ',\n",
       " '  $    $    $    ',\n",
       " '  $    $    $    ',\n",
       " '  $    $      ',\n",
       " '  $    $    $    ',\n",
       " '  $    $      ']"
      ]
     },
     "execution_count": 13,
     "metadata": {},
     "output_type": "execute_result"
    }
   ],
   "source": [
    "r_dollars = []\n",
    "# Get the number of dollar signs for each restaurant.\n",
    "# It's trickier to eliminate the HTML in this one. Hint: Try a nested find.\n",
    "for entry in soup.find_all('div', {'class': 'rest-row-pricing'}):\n",
    "    r_dollars.append(entry.find('i').renderContents())\n",
    "    \n",
    "r_dollars[0:10]"
   ]
  },
  {
   "cell_type": "markdown",
   "metadata": {},
   "source": [
    "**7.B) Convert the dollar sign strings to a count of the number of dollar signs.**\n",
    "\n",
    "Can you figure out a way to print out the number of dollar signs per restaurant listed?"
   ]
  },
  {
   "cell_type": "code",
   "execution_count": 14,
   "metadata": {},
   "outputs": [
    {
     "data": {
      "text/plain": [
       "[2, 2, 2, 3, 2, 3, 3, 2, 3, 2]"
      ]
     },
     "execution_count": 14,
     "metadata": {},
     "output_type": "execute_result"
    }
   ],
   "source": [
    "r_dollar_count = []\n",
    "\n",
    "for entry in soup.find_all('div', {'class': 'rest-row-pricing'}):\n",
    "    price = entry.find('i').renderContents()\n",
    "    r_dollar_count.append(price.count('$'))\n",
    "    \n",
    "r_dollar_count[0:10]"
   ]
  },
  {
   "cell_type": "markdown",
   "metadata": {},
   "source": [
    "### 8) Can you find the number of times a restaurant was booked?\n",
    "\n",
    "In the next cell, print out a sample of objects that contain the number of times a restaurant was booked.\n",
    "\n",
    "> *Note: If you can't, why do you think this happens?*"
   ]
  },
  {
   "cell_type": "code",
   "execution_count": 15,
   "metadata": {},
   "outputs": [
    {
     "name": "stdout",
     "output_type": "stream",
     "text": [
      "[]\n"
     ]
    }
   ],
   "source": [
    "# Print out all of the objects that contain the number of times the restaurant was booked.\n",
    "print soup.find_all('div', {'class': 'booking'})[0:20]"
   ]
  },
  {
   "cell_type": "markdown",
   "metadata": {},
   "source": [
    "That's weird — an empty set. Did we find the wrong element? What's going on here? Let's discuss.\n",
    "\n",
    "How can we debug this? Any ideas?"
   ]
  },
  {
   "cell_type": "code",
   "execution_count": 16,
   "metadata": {},
   "outputs": [],
   "source": [
    "# Let's first try printing out all of the \"span\" class objects.\n",
    "for entry in soup.find_all('div'):\n",
    "    if 'ooked' in entry:\n",
    "        print(entry)"
   ]
  },
  {
   "cell_type": "code",
   "execution_count": 17,
   "metadata": {},
   "outputs": [],
   "source": [
    "# We still can't find the booking count in the object. This requires JavaScript."
   ]
  },
  {
   "cell_type": "markdown",
   "metadata": {},
   "source": [
    "## Enter: Selenium\n",
    "\n",
    "---\n",
    "\n",
    "Selenium is a headless browser. That means it enables us to mock human-browsing behavior — it even waits for JavaScript elements to load.\n",
    "\n",
    "If you don't already have Selenium installed, you can do so via pip. Simply run `pip install selenium`."
   ]
  },
  {
   "cell_type": "code",
   "execution_count": 18,
   "metadata": {},
   "outputs": [],
   "source": [
    "# Import:\n",
    "from selenium import webdriver"
   ]
  },
  {
   "cell_type": "markdown",
   "metadata": {},
   "source": [
    "To run, Selenium requires us to determine a default browser. We're going to opt for Firefox, but Chromium is also a very common choice.\n",
    "\n",
    "http://selenium-python.readthedocs.io/faq.html"
   ]
  },
  {
   "cell_type": "markdown",
   "metadata": {
    "collapsed": true
   },
   "source": [
    "### 9) What's going to happen when we run the next cell?\n",
    "\n",
    "The ChromeDriver has been provided in the \"chromedriver\" folder, so don't worry about downloading another one."
   ]
  },
  {
   "cell_type": "code",
   "execution_count": 55,
   "metadata": {},
   "outputs": [],
   "source": [
    "import os\n",
    "from selenium import webdriver\n",
    "\n",
    "chromedriver = \"/Users/edoardo/github_dsi4/classes/week-06/labs/python-webscraping_opentable-lab-master/chromedriver/chromedriver\"\n",
    "os.environ[\"webdriver.chrome.driver\"] = chromedriver\n",
    "# driver = webdriver.Chrome(chromedriver)"
   ]
  },
  {
   "cell_type": "code",
   "execution_count": 64,
   "metadata": {},
   "outputs": [],
   "source": [
    "# Create a driver called \"driver.\"\n",
    "driver = webdriver.Chrome(executable_path=\"../chromedriver/chromedriver\")"
   ]
  },
  {
   "cell_type": "markdown",
   "metadata": {},
   "source": [
    "Pretty crazy, right? Now let's close that driver. \n",
    "\n",
    "This should have opened up a new browser window. If you didn't see it pop up automatically, check all of your desktop displays. "
   ]
  },
  {
   "cell_type": "code",
   "execution_count": 65,
   "metadata": {},
   "outputs": [],
   "source": [
    "# Close it.\n",
    "driver.close()"
   ]
  },
  {
   "cell_type": "markdown",
   "metadata": {},
   "source": [
    "### 10) Use the driver to visit `www.python.org`."
   ]
  },
  {
   "cell_type": "code",
   "execution_count": 27,
   "metadata": {},
   "outputs": [],
   "source": [
    "# Let's boot it up and visit a URL of our choice.\n",
    "driver = webdriver.Chrome(executable_path=\"../chromedriver/chromedriver\")\n",
    "driver.get(\"http://www.python.org\")"
   ]
  },
  {
   "cell_type": "code",
   "execution_count": 30,
   "metadata": {},
   "outputs": [],
   "source": [
    "driver.close()"
   ]
  },
  {
   "cell_type": "markdown",
   "metadata": {},
   "source": [
    "Awesome! Now we're getting somewhere — we're programmatically controlling our browser like a human would."
   ]
  },
  {
   "cell_type": "markdown",
   "metadata": {},
   "source": [
    "### 11) Visit the OpenTable page using the driver.\n",
    "\n",
    "Let's return to the problem at hand. We need to visit the OpenTable listings for DC. Once there, we need the HTML to load. \n",
    "\n",
    "In the next cell, prove you can programmatically visit the page."
   ]
  },
  {
   "cell_type": "code",
   "execution_count": 31,
   "metadata": {},
   "outputs": [],
   "source": [
    "# Visit our OpenTable page.\n",
    "driver = webdriver.Chrome(executable_path=\"../chromedriver/chromedriver\")\n",
    "driver.get(\"ç\")\n",
    "# It's always good to check that we have the page we think we do.\n",
    "assert \"OpenTable\" in driver.title"
   ]
  },
  {
   "cell_type": "code",
   "execution_count": 32,
   "metadata": {},
   "outputs": [],
   "source": [
    "driver.close()"
   ]
  },
  {
   "cell_type": "markdown",
   "metadata": {},
   "source": [
    "### 12) Resolve the JavaScript issue using the driver and find the bookings.\n",
    "\n",
    "What we can do in this case is:\n",
    "\n",
    "1) Request that the page load.\n",
    "2) Wait one second.\n",
    "3) Grab the source HTML from the page.\n",
    "\n",
    "The page should believe we're visiting from a live connection on a browser client, so the JavaScript should render to be part of the page source. We can then grab the page source.\n",
    "\n",
    "**Once you have the HTML with the JavaScript rendered, repeat the processes above to find the bookings.**"
   ]
  },
  {
   "cell_type": "code",
   "execution_count": 33,
   "metadata": {},
   "outputs": [],
   "source": [
    "# Import sleep:\n",
    "from time import sleep"
   ]
  },
  {
   "cell_type": "code",
   "execution_count": 34,
   "metadata": {},
   "outputs": [],
   "source": [
    "# Visit our relevant page.\n",
    "driver = webdriver.Chrome(executable_path=\"../chromedriver/chromedriver\")\n",
    "driver.get(\"http://www.opentable.com/washington-dc-restaurant-listings\")\n",
    "# Wait one second.\n",
    "sleep(1)\n",
    "# Grab the page source.\n",
    "html = driver.page_source"
   ]
  },
  {
   "cell_type": "code",
   "execution_count": 35,
   "metadata": {},
   "outputs": [],
   "source": [
    "# Beautiful Soup it!\n",
    "html = BeautifulSoup(html, 'lxml')"
   ]
  },
  {
   "cell_type": "code",
   "execution_count": 36,
   "metadata": {},
   "outputs": [],
   "source": [
    "# Now, let's return to our earlier problem: How do we locate bookings on the page?"
   ]
  },
  {
   "cell_type": "code",
   "execution_count": 37,
   "metadata": {},
   "outputs": [
    {
     "name": "stdout",
     "output_type": "stream",
     "text": [
      "[<div class=\"booking\"><span class=\"tadpole\"></span>Booked 451 times today</div>, <div class=\"booking\"><span class=\"tadpole\"></span>Booked 249 times today</div>, <div class=\"booking\"><span class=\"tadpole\"></span>Booked 98 times today</div>, <div class=\"booking\"><span class=\"tadpole\"></span>Booked 154 times today</div>, <div class=\"booking\"><span class=\"tadpole\"></span>Booked 125 times today</div>, <div class=\"booking\"><span class=\"tadpole\"></span>Booked 82 times today</div>, <div class=\"booking\"><span class=\"tadpole\"></span>Booked 59 times today</div>, <div class=\"booking\"><span class=\"tadpole\"></span>Booked 90 times today</div>, <div class=\"booking\"><span class=\"tadpole\"></span>Booked 36 times today</div>, <div class=\"booking\"><span class=\"tadpole\"></span>Booked 95 times today</div>]\n"
     ]
    }
   ],
   "source": [
    "# Print out the number of bookings for all of the restaurants.\n",
    "print html.find_all('div', {'class':'booking'})[0:10]"
   ]
  },
  {
   "cell_type": "code",
   "execution_count": 38,
   "metadata": {},
   "outputs": [
    {
     "data": {
      "text/plain": [
       "[u'Booked 451 times today',\n",
       " u'Booked 249 times today',\n",
       " u'Booked 98 times today',\n",
       " u'Booked 154 times today',\n",
       " u'Booked 125 times today',\n",
       " u'Booked 82 times today',\n",
       " u'Booked 59 times today',\n",
       " u'Booked 90 times today',\n",
       " u'Booked 36 times today',\n",
       " u'Booked 95 times today',\n",
       " u'Booked 44 times today',\n",
       " u'Booked 39 times today',\n",
       " u'Booked 36 times today',\n",
       " u'Booked 41 times today',\n",
       " u'Booked 36 times today']"
      ]
     },
     "execution_count": 38,
     "metadata": {},
     "output_type": "execute_result"
    }
   ],
   "source": [
    "r_bookings = []\n",
    "for booking in html.find_all('div', {'class':'booking'}):\n",
    "    r_bookings.append(booking.text)\n",
    "    \n",
    "r_bookings[0:15]"
   ]
  },
  {
   "cell_type": "code",
   "execution_count": 31,
   "metadata": {},
   "outputs": [],
   "source": [
    "# We've succeeded!\n",
    "\n",
    "# But we can still clean this up a bit. \n",
    "# We're going to use regular expressions (regex) to grab only the digits that are available in the text.\n",
    "\n",
    "# The best way to get good at using regex is to keep trying and testing: http://pythex.org/."
   ]
  },
  {
   "cell_type": "code",
   "execution_count": 39,
   "metadata": {},
   "outputs": [],
   "source": [
    "# Import regex.\n",
    "import re"
   ]
  },
  {
   "cell_type": "code",
   "execution_count": 40,
   "metadata": {},
   "outputs": [],
   "source": [
    "# Because we haven't covered regex, here's a guide for how to use the search function to match any given digit."
   ]
  },
  {
   "cell_type": "code",
   "execution_count": 41,
   "metadata": {},
   "outputs": [
    {
     "data": {
      "text/plain": [
       "[451, 249, 98, 154, 125, 82, 59, 90, 36, 95, 44, 39, 36, 41, 36]"
      ]
     },
     "execution_count": 41,
     "metadata": {},
     "output_type": "execute_result"
    }
   ],
   "source": [
    "r_bookings_num = []\n",
    "# For each entry, grab the text.\n",
    "for booking in html.find_all('div', {'class':'booking'}):\n",
    "    # Match all digits.\n",
    "    match = re.search(r'\\d+', booking.text)\n",
    "    # Append if found.\n",
    "    if match:\n",
    "        r_bookings_num.append(int(match.group()))\n",
    "    # Otherwise, it's 0.\n",
    "    else:\n",
    "        r_bookings_num.append(0)\n",
    "        \n",
    "r_bookings_num[0:15]"
   ]
  },
  {
   "cell_type": "markdown",
   "metadata": {},
   "source": [
    "### 13) Can we get all of the items we want from the page in a single `find_all`?\n",
    "\n",
    "To be as efficient as possible, we only want to do a single loop for each entry on the page. That means we want to find the element all of our other elements (name, location, price, and bookings) are housed within. Where is each entry located on the page?"
   ]
  },
  {
   "cell_type": "code",
   "execution_count": 42,
   "metadata": {},
   "outputs": [],
   "source": [
    "# Print out all entries.\n",
    "entries = html.find_all('div', {'class':'result content-section-list-row cf with-times'})"
   ]
  },
  {
   "cell_type": "markdown",
   "metadata": {},
   "source": [
    "### 14) Does every entry have all of the elements we want?"
   ]
  },
  {
   "cell_type": "code",
   "execution_count": 43,
   "metadata": {},
   "outputs": [],
   "source": [
    "# Not every element has a number of recent bookings. \n",
    "# That's probably exactly why OpenTable houses this in JavaScript: It wants to continuously update the number of bookings \n",
    "# with the most relevant number of values."
   ]
  },
  {
   "cell_type": "code",
   "execution_count": 44,
   "metadata": {},
   "outputs": [
    {
     "name": "stdout",
     "output_type": "stream",
     "text": [
      "None\n",
      "None\n",
      "<div class=\"booking\"><span class=\"tadpole\"></span>Booked 451 times today</div>\n",
      "<div class=\"booking\"><span class=\"tadpole\"></span>Booked 249 times today</div>\n",
      "<div class=\"booking\"><span class=\"tadpole\"></span>Booked 98 times today</div>\n",
      "<div class=\"booking\"><span class=\"tadpole\"></span>Booked 154 times today</div>\n",
      "<div class=\"booking\"><span class=\"tadpole\"></span>Booked 125 times today</div>\n",
      "<div class=\"booking\"><span class=\"tadpole\"></span>Booked 82 times today</div>\n",
      "<div class=\"booking\"><span class=\"tadpole\"></span>Booked 59 times today</div>\n",
      "<div class=\"booking\"><span class=\"tadpole\"></span>Booked 90 times today</div>\n",
      "<div class=\"booking\"><span class=\"tadpole\"></span>Booked 36 times today</div>\n",
      "<div class=\"booking\"><span class=\"tadpole\"></span>Booked 95 times today</div>\n",
      "<div class=\"booking\"><span class=\"tadpole\"></span>Booked 44 times today</div>\n",
      "<div class=\"booking\"><span class=\"tadpole\"></span>Booked 39 times today</div>\n",
      "<div class=\"booking\"><span class=\"tadpole\"></span>Booked 36 times today</div>\n",
      "<div class=\"booking\"><span class=\"tadpole\"></span>Booked 41 times today</div>\n",
      "<div class=\"booking\"><span class=\"tadpole\"></span>Booked 36 times today</div>\n",
      "<div class=\"booking\"><span class=\"tadpole\"></span>Booked 64 times today</div>\n",
      "<div class=\"booking\"><span class=\"tadpole\"></span>Booked 63 times today</div>\n",
      "<div class=\"booking\"><span class=\"tadpole\"></span>Booked 10 times today</div>\n",
      "<div class=\"booking\"><span class=\"tadpole\"></span>Booked 37 times today</div>\n",
      "<div class=\"booking\"><span class=\"tadpole\"></span>Booked 97 times today</div>\n",
      "<div class=\"booking\"><span class=\"tadpole\"></span>Booked 69 times today</div>\n",
      "<div class=\"booking\"><span class=\"tadpole\"></span>Booked 6 times today</div>\n",
      "<div class=\"booking\"><span class=\"tadpole\"></span>Booked 47 times today</div>\n",
      "<div class=\"booking\"><span class=\"tadpole\"></span>Booked 21 times today</div>\n",
      "<div class=\"booking\"><span class=\"tadpole\"></span>Booked 27 times today</div>\n",
      "<div class=\"booking\"><span class=\"tadpole\"></span>Booked 65 times today</div>\n",
      "<div class=\"booking\"><span class=\"tadpole\"></span>Booked 49 times today</div>\n",
      "<div class=\"booking\"><span class=\"tadpole\"></span>Booked 75 times today</div>\n",
      "<div class=\"booking\"><span class=\"tadpole\"></span>Booked 50 times today</div>\n",
      "<div class=\"booking\"><span class=\"tadpole\"></span>Booked 29 times today</div>\n",
      "<div class=\"booking\"><span class=\"tadpole\"></span>Booked 19 times today</div>\n",
      "<div class=\"booking\"><span class=\"tadpole\"></span>Booked 59 times today</div>\n",
      "<div class=\"booking\"><span class=\"tadpole\"></span>Booked 20 times today</div>\n",
      "<div class=\"booking\"><span class=\"tadpole\"></span>Booked 15 times today</div>\n",
      "<div class=\"booking\"><span class=\"tadpole\"></span>Booked 18 times today</div>\n",
      "<div class=\"booking\"><span class=\"tadpole\"></span>Booked 16 times today</div>\n",
      "<div class=\"booking\"><span class=\"tadpole\"></span>Booked 5 times today</div>\n",
      "<div class=\"booking\"><span class=\"tadpole\"></span>Booked 18 times today</div>\n",
      "<div class=\"booking\"><span class=\"tadpole\"></span>Booked 12 times today</div>\n",
      "<div class=\"booking\"><span class=\"tadpole\"></span>Booked 63 times today</div>\n",
      "<div class=\"booking\"><span class=\"tadpole\"></span>Booked 21 times today</div>\n",
      "<div class=\"booking\"><span class=\"tadpole\"></span>Booked 23 times today</div>\n",
      "<div class=\"booking\"><span class=\"tadpole\"></span>Booked 24 times today</div>\n",
      "<div class=\"booking\"><span class=\"tadpole\"></span>Booked 21 times today</div>\n",
      "<div class=\"booking\"><span class=\"tadpole\"></span>Booked 17 times today</div>\n",
      "<div class=\"booking\"><span class=\"tadpole\"></span>Booked 107 times today</div>\n",
      "<div class=\"booking\"><span class=\"tadpole\"></span>Booked 16 times today</div>\n",
      "<div class=\"booking\"><span class=\"tadpole\"></span>Booked 6 times today</div>\n"
     ]
    }
   ],
   "source": [
    "# What happens when a booking isn't available?\n",
    "# Print out some booking entries using the identification code we wrote above.\n",
    "for entry in html.find_all('div', {'class':'result content-section-list-row cf with-times'})[0:50]:\n",
    "    print entry.find('div', {'class':'booking'})"
   ]
  },
  {
   "cell_type": "markdown",
   "metadata": {},
   "source": [
    "### 15) Use Python exceptions to handle cases when bookings aren't found.\n",
    "\n",
    "When a booking isn't found, store `'ZERO'`."
   ]
  },
  {
   "cell_type": "code",
   "execution_count": 45,
   "metadata": {},
   "outputs": [
    {
     "name": "stdout",
     "output_type": "stream",
     "text": [
      "3\n"
     ]
    }
   ],
   "source": [
    "# If we find the element we want, we print it. Otherwise, we print \"ZERO.\"\n",
    "entries = []\n",
    "for entry in html.find_all('div', {'class':'result content-section-list-row cf with-times'}):\n",
    "    try:\n",
    "        entries.append(entry.find('div', {'class':'booking'}).text)\n",
    "    except:\n",
    "        entries.append('ZERO')\n",
    "        \n",
    "print entries.count('ZERO')"
   ]
  },
  {
   "cell_type": "markdown",
   "metadata": {},
   "source": [
    "### 16) Putting it all together in a DataFrame.\n",
    "\n",
    "**Loop through the entries. For each:**\n",
    "\n",
    "1) Grab the relevant information we want (name, location, price, and bookings). \n",
    "2) Produce a DataFrame with the columns \"name,\" \"location,\" \"price,\" and \"bookings\" that contains the 100 entries we'd like."
   ]
  },
  {
   "cell_type": "code",
   "execution_count": 46,
   "metadata": {},
   "outputs": [],
   "source": [
    "# First, create an empty DataFrame.\n",
    "import pandas as pd\n",
    "dc_eats = pd.DataFrame(columns=[\"name\",\"location\",\"price\",\"bookings\"])"
   ]
  },
  {
   "cell_type": "code",
   "execution_count": 47,
   "metadata": {},
   "outputs": [],
   "source": [
    "# Loop through each entry.\n",
    "for entry in html.find_all('div', {'class':'result content-section-list-row cf with-times'}):\n",
    "    # Grab the name.\n",
    "    name = entry.find('span', {'class': 'rest-row-name-text'}).text\n",
    "    # Grab the location.\n",
    "    location = entry.find('span', {'class': 'rest-row-meta--location rest-row-meta-text'}).renderContents()\n",
    "    # Grab the price.\n",
    "    price = entry.find('div', {'class': 'rest-row-pricing'}).find('i').renderContents().count('$')\n",
    "    # Try to find the number of bookings.\n",
    "    try:\n",
    "        temp = entry.find('div', {'class':'booking'}).text\n",
    "        match = re.search(r'\\d+', temp)\n",
    "        if match:\n",
    "            bookings = match.group()\n",
    "    except:\n",
    "        bookings = 'NA'\n",
    "    # Add to the DataFrame.\n",
    "    dc_eats.loc[len(dc_eats)]=[name, location, price, bookings]"
   ]
  },
  {
   "cell_type": "code",
   "execution_count": 48,
   "metadata": {},
   "outputs": [
    {
     "data": {
      "text/html": [
       "<div>\n",
       "<style scoped>\n",
       "    .dataframe tbody tr th:only-of-type {\n",
       "        vertical-align: middle;\n",
       "    }\n",
       "\n",
       "    .dataframe tbody tr th {\n",
       "        vertical-align: top;\n",
       "    }\n",
       "\n",
       "    .dataframe thead th {\n",
       "        text-align: right;\n",
       "    }\n",
       "</style>\n",
       "<table border=\"1\" class=\"dataframe\">\n",
       "  <thead>\n",
       "    <tr style=\"text-align: right;\">\n",
       "      <th></th>\n",
       "      <th>name</th>\n",
       "      <th>location</th>\n",
       "      <th>price</th>\n",
       "      <th>bookings</th>\n",
       "    </tr>\n",
       "  </thead>\n",
       "  <tbody>\n",
       "    <tr>\n",
       "      <th>0</th>\n",
       "      <td>Ruffino's - Arlington</td>\n",
       "      <td>Arlington</td>\n",
       "      <td>2</td>\n",
       "      <td>NA</td>\n",
       "    </tr>\n",
       "    <tr>\n",
       "      <th>1</th>\n",
       "      <td>Joe's Place Pizza and Pasta</td>\n",
       "      <td>Arlington</td>\n",
       "      <td>2</td>\n",
       "      <td>NA</td>\n",
       "    </tr>\n",
       "    <tr>\n",
       "      <th>2</th>\n",
       "      <td>Farmers Fishers Bakers</td>\n",
       "      <td>Georgetown</td>\n",
       "      <td>2</td>\n",
       "      <td>451</td>\n",
       "    </tr>\n",
       "    <tr>\n",
       "      <th>3</th>\n",
       "      <td>Filomena Ristorante</td>\n",
       "      <td>Georgetown</td>\n",
       "      <td>3</td>\n",
       "      <td>249</td>\n",
       "    </tr>\n",
       "    <tr>\n",
       "      <th>4</th>\n",
       "      <td>Ambar - Arlington</td>\n",
       "      <td>Arlington</td>\n",
       "      <td>2</td>\n",
       "      <td>98</td>\n",
       "    </tr>\n",
       "  </tbody>\n",
       "</table>\n",
       "</div>"
      ],
      "text/plain": [
       "                          name    location price bookings\n",
       "0        Ruffino's - Arlington   Arlington     2       NA\n",
       "1  Joe's Place Pizza and Pasta   Arlington     2       NA\n",
       "2       Farmers Fishers Bakers  Georgetown     2      451\n",
       "3          Filomena Ristorante  Georgetown     3      249\n",
       "4            Ambar - Arlington   Arlington     2       98"
      ]
     },
     "execution_count": 48,
     "metadata": {},
     "output_type": "execute_result"
    }
   ],
   "source": [
    "# Check out our work.\n",
    "dc_eats.head()"
   ]
  },
  {
   "cell_type": "markdown",
   "metadata": {},
   "source": [
    "### 17) [Bonus] Sending keys over the driver.\n",
    "\n",
    "We can send keys to the page using the driver. Below is a demonstration of how to search the page using the Selenium driver."
   ]
  },
  {
   "cell_type": "code",
   "execution_count": 49,
   "metadata": {},
   "outputs": [],
   "source": [
    "# We can send keys as well. Import:\n",
    "from selenium.webdriver.common.keys import Keys"
   ]
  },
  {
   "cell_type": "code",
   "execution_count": 50,
   "metadata": {},
   "outputs": [],
   "source": [
    "# Open the driver.\n",
    "driver = webdriver.Chrome(executable_path=\"../chromedriver/chromedriver\")\n",
    "# Visit Python.\n",
    "driver.get(\"http://www.python.org\")\n",
    "# Verify we're in the right place.\n",
    "assert \"Python\" in driver.title"
   ]
  },
  {
   "cell_type": "code",
   "execution_count": 51,
   "metadata": {},
   "outputs": [],
   "source": [
    "# Find the search position.\n",
    "elem = driver.find_element_by_name(\"q\")\n",
    "# Clear it.\n",
    "elem.clear()\n",
    "# Type in \"pycon.\"\n",
    "elem.send_keys(\"pycon\")"
   ]
  },
  {
   "cell_type": "code",
   "execution_count": 52,
   "metadata": {},
   "outputs": [],
   "source": [
    "# Send the keys.\n",
    "elem.send_keys(Keys.RETURN)\n",
    "# This yields no results.\n",
    "assert \"No results found.\" not in driver.page_source"
   ]
  },
  {
   "cell_type": "code",
   "execution_count": 53,
   "metadata": {},
   "outputs": [],
   "source": [
    "# Close the driver.\n",
    "driver.close()"
   ]
  },
  {
   "cell_type": "code",
   "execution_count": 54,
   "metadata": {},
   "outputs": [],
   "source": [
    "# All at once:\n",
    "driver = webdriver.Chrome(executable_path=\"../chromedriver/chromedriver\")\n",
    "driver.get(\"http://www.python.org\")\n",
    "assert \"Python\" in driver.title\n",
    "elem = driver.find_element_by_name(\"q\")\n",
    "elem.clear()\n",
    "elem.send_keys(\"pycon\")\n",
    "elem.send_keys(Keys.RETURN)\n",
    "assert \"No results found.\" not in driver.page_source\n",
    "driver.close()"
   ]
  },
  {
   "cell_type": "markdown",
   "metadata": {},
   "source": [
    "## Additional Resources\n",
    "\n",
    "---\n",
    "\n",
    "The example above (and many others) are available in the [Selenium docs](http://selenium-python.readthedocs.io/getting-started.html).\n",
    "\n",
    "It's especially important to explore functionality, such as [locating elements](http://selenium-python.readthedocs.io/locating-elements.html#locating-elements).\n",
    "\n",
    "Review Selenium's [FAQs](http://selenium-python.readthedocs.io/faq.html)."
   ]
  },
  {
   "cell_type": "code",
   "execution_count": null,
   "metadata": {},
   "outputs": [],
   "source": []
  }
 ],
 "metadata": {
  "kernelspec": {
   "display_name": "Python 3",
   "language": "python",
   "name": "python3"
  },
  "language_info": {
   "codemirror_mode": {
    "name": "ipython",
    "version": 3
   },
   "file_extension": ".py",
   "mimetype": "text/x-python",
   "name": "python",
   "nbconvert_exporter": "python",
   "pygments_lexer": "ipython3",
   "version": "3.6.5"
  }
 },
 "nbformat": 4,
 "nbformat_minor": 1
}
